{
 "cells": [
  {
   "cell_type": "code",
   "execution_count": 1,
   "metadata": {},
   "outputs": [
    {
     "data": {
      "text/plain": [
       "20"
      ]
     },
     "execution_count": 1,
     "metadata": {},
     "output_type": "execute_result"
    }
   ],
   "source": [
    "import numpy as np\n",
    "import pickle\n",
    "import gym\n",
    "import gc\n",
    "\n",
    "gc.enable()\n",
    "gc.collect()"
   ]
  },
  {
   "cell_type": "code",
   "execution_count": 2,
   "metadata": {},
   "outputs": [],
   "source": [
    "# HELPER FUNCTIONS\n",
    "\n",
    "def sigmoid(x):\n",
    "    return 1.0 / (1.0 + np.exp(-x))\n",
    "\n",
    "def prepro(I):\n",
    "    \"\"\" prepro 210x160x3 uint8 frame into 6400 (80x80) 1D float vector \"\"\"\n",
    "    I = I[35:195] # crop\n",
    "    I = I[::2,::2,0] # downsample by factor of 2\n",
    "    I[I == 144] = 0 # erase background (background type 1)\n",
    "    I[I == 109] = 0 # erase background (background type 2)\n",
    "    I[I != 0] = 1 # everything else (paddles, ball) just set to 1\n",
    "    return I.astype('float').ravel()"
   ]
  },
  {
   "cell_type": "code",
   "execution_count": 20,
   "metadata": {},
   "outputs": [],
   "source": [
    "# HYPERPARAMS\n",
    "\n",
    "H = 200 # n hidden layer neurons\n",
    "batch_size = 10 # n episodes before param update\n",
    "learning_rate = 1e-4\n",
    "gamma = 0.99 # discount factor\n",
    "b1 = 0.99\n",
    "b2 = 0.999\n",
    "epsilon = 1e-7\n",
    "resume = False # resume from previous checkpoint?\n",
    "render = False\n",
    "\n",
    "# Model initialization\n",
    "D = 80 * 80 # input dimensionality: 80x80 grid\n",
    "if resume:\n",
    "    model = pickle.load(open('save.p','rb'))\n",
    "else:\n",
    "    model = {}\n",
    "    model['W1'] = np.random.randn(H,D) / np.sqrt(D) # \"Xavier\" initialization, centers around 0\n",
    "    model['W2'] = np.random.randn(H) / np.sqrt(H)\n",
    "\n",
    "# Tracks gradients, 1st moment, and 2nd moment over a batch\n",
    "gradient_buffer = { k : np.zeros_like(v) for k,v in model.items() }\n",
    "m = { k : np.zeros_like(v) for k,v in model.items() }\n",
    "c = { k : np.zeros_like(v) for k,v in model.items() }"
   ]
  },
  {
   "cell_type": "code",
   "execution_count": 21,
   "metadata": {},
   "outputs": [],
   "source": [
    "# DQN FUNCTIONS\n",
    "\n",
    "def discount_rewards(r):\n",
    "  \"\"\" take 1D float array of rewards over episode and compute discounted reward \"\"\"\n",
    "  discounted_r = np.zeros_like(r)\n",
    "  G = 0\n",
    "\n",
    "  # Working backwards from the terminal state\n",
    "  for t in reversed(range(0, r.size)):\n",
    "    # (Loosely) update value at each state\n",
    "    G = gamma * G + r[t]\n",
    "    discounted_r[t] = G\n",
    "\n",
    "  return discounted_r\n",
    "\n",
    "def policy_forward(x):\n",
    "  \"\"\" given frame, return probability of action 2 \"\"\"\n",
    "  # Layer 1\n",
    "  h = np.dot(model['W1'], x)\n",
    "  # ReLU\n",
    "  h[h<0] = 0\n",
    "  # Layer 2: get logits\n",
    "  logp = np.dot(model['W2'], h)\n",
    "  # Sigmoid\n",
    "  p = sigmoid(logp)\n",
    "\n",
    "  return p, h # Return probability of action 2, hidden state\n",
    "\n",
    "def policy_backward(h, x, pgrad):\n",
    "  \"\"\"\n",
    "  backward pass that gets policy gradients\n",
    "  \n",
    "  h: hidden states\n",
    "  x: observed states\n",
    "  pgrad: policy gradients\n",
    "\n",
    "  \"\"\"\n",
    "  # Second layer gradients\n",
    "  dW2 = np.dot(h.T, pgrad).ravel()\n",
    "  dh = np.outer(pgrad, model['W2'])\n",
    "  dh[h <= 0] = 0\n",
    "\n",
    "  # First layer gradients\n",
    "  dW1 = np.dot(dh.T, x)\n",
    "  return {'W1':dW1, 'W2':dW2}"
   ]
  },
  {
   "cell_type": "code",
   "execution_count": 22,
   "metadata": {},
   "outputs": [],
   "source": [
    "# INITIALIZE GYM\n",
    "\n",
    "env = gym.make(\"Pong-v4\")\n",
    "observation, info = env.reset()\n",
    "\n",
    "prev_x = None # Used for differencing\n",
    "xs,hs,dlogps,drs = [],[],[],[] # Observed, hidden, policy gradient, rewards\n",
    "xs,hs,pgrads,rs = [],[],[],[]\n",
    "running_reward = None\n",
    "reward_sum = 0\n",
    "episode_number = 0"
   ]
  },
  {
   "cell_type": "code",
   "execution_count": 23,
   "metadata": {},
   "outputs": [
    {
     "name": "stderr",
     "output_type": "stream",
     "text": [
      "/Library/Frameworks/Python.framework/Versions/3.11/lib/python3.11/site-packages/gym/utils/passive_env_checker.py:233: DeprecationWarning: `np.bool8` is a deprecated alias for `np.bool_`.  (Deprecated NumPy 1.24)\n",
      "  if not isinstance(terminated, (bool, np.bool8)):\n"
     ]
    },
    {
     "name": "stdout",
     "output_type": "stream",
     "text": [
      "resetting env. episode reward total was -21.00. running mean: -21.00\n"
     ]
    }
   ],
   "source": [
    "while True:\n",
    "  if render: env.render()\n",
    "\n",
    "  # Preprocess and difference observation\n",
    "  current_x = prepro(observation)\n",
    "  x = current_x - prev_x if prev_x is not None else np.zeros(D)\n",
    "  prev_x = current_x\n",
    "\n",
    "  # Feed forward policy network\n",
    "  aprob, h = policy_forward(x)\n",
    "  # Sample action from returned probability\n",
    "  action = 2 if np.random.uniform() < aprob else 3\n",
    "\n",
    "  # Record intermediates\n",
    "  xs.append(x) # observation\n",
    "  hs.append(h) # hidden state\n",
    "  y = 1 if action == 2 else 0 # \"fake label\"\n",
    "  pgrads.append(y - aprob) # policy gradient\n",
    "\n",
    "  # Take a step\n",
    "  observation, reward, terminated, truncated, info = env.step(action)\n",
    "  # Record rewards\n",
    "  reward_sum += reward\n",
    "  rs.append(reward)\n",
    "\n",
    "  # If episode terminated\n",
    "  if terminated or truncated:\n",
    "    episode_number += 1\n",
    "\n",
    "    # Stack intermediaries\n",
    "    ixs = np.vstack(xs)\n",
    "    ihs = np.vstack(hs)\n",
    "    ipgrads = np.vstack(pgrads)\n",
    "    irs = np.vstack(rs)\n",
    "    xs,hs,pgrads,rs = [],[],[],[]\n",
    "\n",
    "    # Get discounted rewards\n",
    "    discounted_r = discount_rewards(irs)\n",
    "    # Normalize rewards\n",
    "    discounted_r -= np.mean(discounted_r)\n",
    "    discounted_r /= np.std(discounted_r)\n",
    "\n",
    "    # Calculate gradients (using Advantage and Policy Gradients)\n",
    "    ipgrads *= discounted_r\n",
    "    grad = policy_backward(ihs, ixs, ipgrads)\n",
    "    # Accumulate gradients over batch\n",
    "    for k in model:\n",
    "       gradient_buffer[k] += grad[k]\n",
    "\n",
    "    # At end of batch: update model\n",
    "    if episode_number % batch_size == 0:\n",
    "      # For each layer of weights\n",
    "      for k,v in model.items():\n",
    "        # Get summed gradient\n",
    "        g = gradient_buffer[k]\n",
    "\n",
    "        # ADAM optimizer\n",
    "        m[k] = b1 * m[k] + (1 - b1) * g\n",
    "        c[k] = b2 * c[k] + (1 - b2) * g**2\n",
    "\n",
    "        m_hat = m[k] / (1 - b1**episode_number)\n",
    "        c_hat = c[k] / (1 - b2**episode_number)\n",
    "\n",
    "        # Update model\n",
    "        model[k] -= learning_rate * m_hat / (np.sqrt(c_hat) + epsilon)\n",
    "        gradient_buffer[k] = np.zeros_like(v) # Reset gradient buffer\n",
    "    \n",
    "    # Book-keeping\n",
    "    running_reward = reward_sum if running_reward is None else running_reward * 0.99 + reward_sum * 0.01\n",
    "    print('resetting env. episode reward total was %.2f. running mean: %.2f' % (reward_sum, running_reward))\n",
    "    # Save model at checkpoints\n",
    "    if episode_number % 500 == 0:\n",
    "      pickle.dump(model, open(f'checkpoints/save_{episode_number}.p', 'wb'))\n",
    "    \n",
    "    # Reset episode after temination\n",
    "    reward_sum = 0\n",
    "    prev_x = None\n",
    "    observation, info = env.reset()\n",
    "\n",
    "  # if reward != 0: # Pong has either +1 or -1 reward exactly when game ends.\n",
    "  #   print ('ep %d: game finished, reward: %f' % (episode_number, reward)) + ('' if reward == -1 else ' !!!!!!!!')"
   ]
  },
  {
   "cell_type": "code",
   "execution_count": null,
   "metadata": {},
   "outputs": [],
   "source": [
    "import matplotlib.pyplot as plt\n",
    "cw1 = np.array(m.layers[1].get_weights())\n",
    "for i in range(32):\n",
    "  plt.imshow(cw1[0][:,:,:,i])\n",
    "  plt.show()\n"
   ]
  }
 ],
 "metadata": {
  "kernelspec": {
   "display_name": "Python 3",
   "language": "python",
   "name": "python3"
  },
  "language_info": {
   "codemirror_mode": {
    "name": "ipython",
    "version": 3
   },
   "file_extension": ".py",
   "mimetype": "text/x-python",
   "name": "python",
   "nbconvert_exporter": "python",
   "pygments_lexer": "ipython3",
   "version": "3.11.2"
  }
 },
 "nbformat": 4,
 "nbformat_minor": 2
}
